{
 "cells": [
  {
   "cell_type": "code",
   "execution_count": 1,
   "id": "e10e66e0-9c0a-4a4a-bc28-f65412775da0",
   "metadata": {},
   "outputs": [],
   "source": [
    "import iris\n",
    "import Utils.iris_utils as iris_utils\n",
    "import pandas as pd\n",
    "import numpy as np\n",
    "import os\n",
    "import logging\n",
    "import esmvalcore.preprocessor\n",
    "import glob\n",
    "import warnings\n",
    "warnings.filterwarnings(\"ignore\")\n",
    "from tqdm import tqdm\n",
    "import xarray as xr\n",
    "from xmip.preprocessing import rename_cmip6"
   ]
  },
  {
   "cell_type": "code",
   "execution_count": 2,
   "id": "b131c579-bad2-4fb2-a434-3c8532330205",
   "metadata": {},
   "outputs": [],
   "source": [
    "def UKESM_land_mask(in_ds):\n",
    "    land_frac = rename_cmip6(xr.open_dataset('/badc/cmip6/data/CMIP6/CMIP/MOHC/UKESM1-0-LL/piControl/r1i1p1f2/fx/sftlf/gn/latest/sftlf_fx_UKESM1-0-LL_piControl_r1i1p1f2_gn.nc'))\n",
    "    land_cutoff = 99\n",
    "    land_mask = xr.where(land_frac['sftlf'] > land_cutoff, True, False)\n",
    "    #land_mask = land_mask.reindex(time=in_ds['time'], method='ffill')\n",
    "    masked_ds = in_ds.where(land_mask, drop=True)\n",
    "    return masked_ds"
   ]
  },
  {
   "cell_type": "code",
   "execution_count": 3,
   "id": "5f13e80d-1dfb-4f4a-9cf1-b6c33112db0e",
   "metadata": {},
   "outputs": [],
   "source": [
    "def preprocess(folder, var, min_lat=-20, max_lat=20, \n",
    "               land_only=True, test=False):\n",
    "    \n",
    "    \"\"\" makes a df of mean temp by year, in lat/lon slice provided, \n",
    "        with optional land mask \"\"\"\n",
    "    \n",
    "    outpath = 'int_outputs/{M}_{Exp}_tropics_land_{v}_{ens}.csv'.format(\n",
    "                            M=folder.split('/')[7], Exp=folder.split('/')[8], v=var, ens=folder.split('/')[9])\n",
    "    \n",
    "    \n",
    "                                                      \n",
    "    #try:\n",
    "    data = rename_cmip6(xr.open_mfdataset(folder + \"*.nc\", use_cftime=True))\n",
    "    jan_mask = data.time.dt.month.isin([1]) \n",
    "    name = str(folder.split('/')[7] + '_' + folder.split('/')[8] + '_' + folder.split('/')[9])\n",
    "    \n",
    "    at_data = data[var]\n",
    "    data.close()\n",
    "        \n",
    "    years = data.time.dt.year[jan_mask].compute()\n",
    "    at_data = (at_data).sel(y=slice(min_lat,max_lat)).groupby(\"time.year\").mean(dim=\"time\")\n",
    "    if land_only:\n",
    "        at_data = UKESM_land_mask(at_data)\n",
    "        \n",
    "    at_data = at_data.weighted(weights=np.cos(np.deg2rad(at_data.y)))\n",
    "    \n",
    "    \n",
    "    df = pd.DataFrame({var:at_data.mean((\"x\",\"y\")).values,\n",
    "                       'year':np.unique(years.values)})\n",
    "    at_data.close()\n",
    "    df.set_index('year',inplace=True)\n",
    "    df.sort_index(inplace=True)\n",
    "    df['Model'] = folder.split('/')[7]\n",
    "    df['Experiment'] = folder.split('/')[8]\n",
    "    df['Ensemble_member'] = folder.split('/')[9]\n",
    "    if test:\n",
    "        print(df)\n",
    "    df.to_csv(outpath) \n",
    "        #except:\n",
    "        #    print(name)"
   ]
  },
  {
   "cell_type": "code",
   "execution_count": null,
   "id": "89df91b5-2a23-45ec-b90f-5d66470d89db",
   "metadata": {},
   "outputs": [],
   "source": []
  },
  {
   "cell_type": "code",
   "execution_count": 6,
   "id": "2a8a8237-f083-44a7-8cae-22afc67723f9",
   "metadata": {},
   "outputs": [
    {
     "ename": "AttributeError",
     "evalue": "'DataArrayWeighted' object has no attribute 'close'",
     "output_type": "error",
     "traceback": [
      "\u001b[0;31m---------------------------------------------------------------------------\u001b[0m",
      "\u001b[0;31mAttributeError\u001b[0m                            Traceback (most recent call last)",
      "Input \u001b[0;32mIn [6]\u001b[0m, in \u001b[0;36m<cell line: 5>\u001b[0;34m()\u001b[0m\n\u001b[1;32m      1\u001b[0m \u001b[38;5;66;03m### test \u001b[39;00m\n\u001b[1;32m      3\u001b[0m test_dir \u001b[38;5;241m=\u001b[39m \u001b[38;5;124m'\u001b[39m\u001b[38;5;124m/badc/cmip6/data/CMIP6/ScenarioMIP/MOHC/UKESM1-0-LL/ssp245/r10i1p1f2/day/tasmax/gn/latest/\u001b[39m\u001b[38;5;124m'\u001b[39m\n\u001b[0;32m----> 5\u001b[0m \u001b[43mpreprocess\u001b[49m\u001b[43m(\u001b[49m\u001b[43mfolder\u001b[49m\u001b[38;5;241;43m=\u001b[39;49m\u001b[43mtest_dir\u001b[49m\u001b[43m,\u001b[49m\u001b[43m \u001b[49m\u001b[43mvar\u001b[49m\u001b[38;5;241;43m=\u001b[39;49m\u001b[43mvar\u001b[49m\u001b[43m,\u001b[49m\u001b[43m \u001b[49m\u001b[43mmin_lat\u001b[49m\u001b[38;5;241;43m=\u001b[39;49m\u001b[38;5;241;43m-\u001b[39;49m\u001b[38;5;241;43m20\u001b[39;49m\u001b[43m,\u001b[49m\u001b[43m \u001b[49m\u001b[43mmax_lat\u001b[49m\u001b[38;5;241;43m=\u001b[39;49m\u001b[38;5;241;43m20\u001b[39;49m\u001b[43m,\u001b[49m\u001b[43m \u001b[49m\u001b[43mland_only\u001b[49m\u001b[38;5;241;43m=\u001b[39;49m\u001b[38;5;28;43;01mTrue\u001b[39;49;00m\u001b[43m,\u001b[49m\u001b[43m \u001b[49m\u001b[43mtest\u001b[49m\u001b[38;5;241;43m=\u001b[39;49m\u001b[38;5;28;43;01mTrue\u001b[39;49;00m\u001b[43m)\u001b[49m\n",
      "Input \u001b[0;32mIn [3]\u001b[0m, in \u001b[0;36mpreprocess\u001b[0;34m(folder, var, min_lat, max_lat, land_only, test)\u001b[0m\n\u001b[1;32m     25\u001b[0m at_data \u001b[38;5;241m=\u001b[39m at_data\u001b[38;5;241m.\u001b[39mweighted(weights\u001b[38;5;241m=\u001b[39mnp\u001b[38;5;241m.\u001b[39mcos(np\u001b[38;5;241m.\u001b[39mdeg2rad(at_data\u001b[38;5;241m.\u001b[39my)))\n\u001b[1;32m     28\u001b[0m df \u001b[38;5;241m=\u001b[39m pd\u001b[38;5;241m.\u001b[39mDataFrame({var:at_data\u001b[38;5;241m.\u001b[39mmean((\u001b[38;5;124m\"\u001b[39m\u001b[38;5;124mx\u001b[39m\u001b[38;5;124m\"\u001b[39m,\u001b[38;5;124m\"\u001b[39m\u001b[38;5;124my\u001b[39m\u001b[38;5;124m\"\u001b[39m))\u001b[38;5;241m.\u001b[39mvalues,\n\u001b[1;32m     29\u001b[0m                    \u001b[38;5;124m'\u001b[39m\u001b[38;5;124myear\u001b[39m\u001b[38;5;124m'\u001b[39m:np\u001b[38;5;241m.\u001b[39munique(years\u001b[38;5;241m.\u001b[39mvalues)})\n\u001b[0;32m---> 30\u001b[0m \u001b[43mat_data\u001b[49m\u001b[38;5;241;43m.\u001b[39;49m\u001b[43mclose\u001b[49m()\n\u001b[1;32m     31\u001b[0m df\u001b[38;5;241m.\u001b[39mset_index(\u001b[38;5;124m'\u001b[39m\u001b[38;5;124myear\u001b[39m\u001b[38;5;124m'\u001b[39m,inplace\u001b[38;5;241m=\u001b[39m\u001b[38;5;28;01mTrue\u001b[39;00m)\n\u001b[1;32m     32\u001b[0m df\u001b[38;5;241m.\u001b[39msort_index(inplace\u001b[38;5;241m=\u001b[39m\u001b[38;5;28;01mTrue\u001b[39;00m)\n",
      "\u001b[0;31mAttributeError\u001b[0m: 'DataArrayWeighted' object has no attribute 'close'"
     ]
    }
   ],
   "source": [
    "### test \n",
    "\n",
    "test_dir = '/badc/cmip6/data/CMIP6/ScenarioMIP/MOHC/UKESM1-0-LL/ssp245/r10i1p1f2/day/tasmax/gn/latest/'\n",
    "\n",
    "preprocess(folder=test_dir, var=var, min_lat=-20, max_lat=20, land_only=True, test=True)"
   ]
  },
  {
   "cell_type": "code",
   "execution_count": null,
   "id": "06c984e3-3238-4fe3-82f0-72b4883d935a",
   "metadata": {},
   "outputs": [],
   "source": []
  },
  {
   "cell_type": "code",
   "execution_count": 5,
   "id": "6ed91ff9-5c82-46df-b590-c2d080dcfcd9",
   "metadata": {},
   "outputs": [
    {
     "name": "stdout",
     "output_type": "stream",
     "text": [
      "tasmax\n",
      "5\n"
     ]
    }
   ],
   "source": [
    "### now run\n",
    "\n",
    "exps = ['ssp245', 'ssp585', 'G6sulfur', 'G6solar', 'G1', 'piControl', 'abrupt-4xCO2']\n",
    "\n",
    "dirs = []\n",
    "domain = \"day\"\n",
    "\n",
    "vars = [\"tasmin\", \"tasmax\"]\n",
    "#var = \"tasmax\"\n",
    "\n",
    "models = ['MOHC/UKESM1-0-LL']\n",
    "\n",
    "exp_dict = {'ssp245': 'ScenarioMIP',\n",
    "            'ssp585': 'ScenarioMIP',\n",
    "            'historical': 'CMIP',\n",
    "            'G6sulfur': 'GeoMIP',\n",
    "            'G6solar': 'GeoMIP', \n",
    "            'G1':'GeoMIP',\n",
    "            'piControl':'CMIP',\n",
    "            'abrupt-4xCO2':'CMIP'}\n",
    "\n",
    "\n",
    "for var in vars:\n",
    "    print(var)\n",
    "    dirs = []\n",
    "    for experiment in exps:\n",
    "        exp_set = exp_dict[experiment]\n",
    "        for model in models:        \n",
    "            for x in glob.glob('/badc/cmip6/data/CMIP6/{es}/{m}/{e}/*/{d}/{v}/*/latest/'.format(\n",
    "                                            es=exp_set, m=model, e=experiment, d=domain, v=var)):\n",
    "                dirs.append(x)\n",
    "    print(len(dirs))\n",
    "    \n",
    "    for dir in tqdm(dirs):\n",
    "       preprocess(dir, var=var, min_lat=-20, max_lat=20, land_only=True)"
   ]
  },
  {
   "cell_type": "code",
   "execution_count": null,
   "id": "b2cea249-da41-429a-a068-3add300eada9",
   "metadata": {},
   "outputs": [],
   "source": []
  },
  {
   "cell_type": "code",
   "execution_count": null,
   "id": "d5adf2dc-1da9-4be5-861b-01ae59d01600",
   "metadata": {},
   "outputs": [],
   "source": []
  },
  {
   "cell_type": "code",
   "execution_count": null,
   "id": "c9a6ef9a-527e-479e-a9af-ec24fba2effe",
   "metadata": {},
   "outputs": [],
   "source": []
  },
  {
   "cell_type": "code",
   "execution_count": null,
   "id": "a1830dcf-ccb3-4e15-bdc5-730a40a7219e",
   "metadata": {},
   "outputs": [],
   "source": []
  },
  {
   "cell_type": "code",
   "execution_count": null,
   "id": "ac5c48ef-2980-40b4-b56b-668980afda01",
   "metadata": {},
   "outputs": [],
   "source": []
  },
  {
   "cell_type": "code",
   "execution_count": null,
   "id": "988a57e1-31a9-4fad-b60b-5b6e865a4769",
   "metadata": {},
   "outputs": [],
   "source": []
  },
  {
   "cell_type": "code",
   "execution_count": null,
   "id": "238ce36b-478a-431b-9823-b7549f60631d",
   "metadata": {},
   "outputs": [],
   "source": []
  },
  {
   "cell_type": "code",
   "execution_count": null,
   "id": "7c4a1db4-0eee-4fc3-8df6-b36b8346cef9",
   "metadata": {},
   "outputs": [],
   "source": []
  },
  {
   "cell_type": "code",
   "execution_count": null,
   "id": "b22a4585-2384-4595-9502-fbc2fbef5356",
   "metadata": {},
   "outputs": [],
   "source": []
  },
  {
   "cell_type": "code",
   "execution_count": null,
   "id": "c0f87bf1-4b0f-47df-a2d5-468dc75dda19",
   "metadata": {},
   "outputs": [],
   "source": []
  },
  {
   "cell_type": "code",
   "execution_count": null,
   "id": "fdb47a98-4fd8-4ca3-8c44-e3f20e610c97",
   "metadata": {},
   "outputs": [],
   "source": []
  },
  {
   "cell_type": "code",
   "execution_count": null,
   "id": "cd24ddbe-e2bb-4ce1-a184-372d959edb05",
   "metadata": {},
   "outputs": [],
   "source": []
  },
  {
   "cell_type": "code",
   "execution_count": null,
   "id": "951313f2-4f4c-44c6-9b7b-a13a39a41d73",
   "metadata": {},
   "outputs": [],
   "source": []
  },
  {
   "cell_type": "code",
   "execution_count": null,
   "id": "9c7ff6b5-f9f1-4c35-9c63-fe399d9a03ba",
   "metadata": {},
   "outputs": [],
   "source": []
  },
  {
   "cell_type": "code",
   "execution_count": null,
   "id": "5c220768-45d1-49a5-ad55-0080257c0776",
   "metadata": {},
   "outputs": [],
   "source": []
  },
  {
   "cell_type": "code",
   "execution_count": null,
   "id": "e3407eaa-47fe-4806-bf77-8893b2d1881f",
   "metadata": {},
   "outputs": [],
   "source": []
  },
  {
   "cell_type": "code",
   "execution_count": null,
   "id": "254cd26a-0977-48f0-8dca-9a5554c3c779",
   "metadata": {},
   "outputs": [],
   "source": []
  },
  {
   "cell_type": "code",
   "execution_count": null,
   "id": "954763b6-8e41-425e-bc4f-7b15ac74839f",
   "metadata": {},
   "outputs": [],
   "source": []
  },
  {
   "cell_type": "code",
   "execution_count": null,
   "id": "bf9c9443-f9ed-4800-a26e-a2bc58a81700",
   "metadata": {},
   "outputs": [],
   "source": []
  },
  {
   "cell_type": "code",
   "execution_count": null,
   "id": "00d1faf9-f9da-4b1f-8ce7-3614d1b2cce4",
   "metadata": {},
   "outputs": [],
   "source": []
  }
 ],
 "metadata": {
  "kernelspec": {
   "display_name": "main",
   "language": "python",
   "name": "main"
  },
  "language_info": {
   "codemirror_mode": {
    "name": "ipython",
    "version": 3
   },
   "file_extension": ".py",
   "mimetype": "text/x-python",
   "name": "python",
   "nbconvert_exporter": "python",
   "pygments_lexer": "ipython3",
   "version": "3.10.5"
  }
 },
 "nbformat": 4,
 "nbformat_minor": 5
}
